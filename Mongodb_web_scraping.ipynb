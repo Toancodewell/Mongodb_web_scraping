{
 "cells": [
  {
   "cell_type": "markdown",
   "id": "bdfab45f-44db-4a12-9c2b-5199dd4bf824",
   "metadata": {},
   "source": [
    "# Import library"
   ]
  },
  {
   "cell_type": "code",
   "execution_count": 27,
   "id": "b963a45d-c857-4611-a364-ab1f80c15c1d",
   "metadata": {},
   "outputs": [],
   "source": [
    "from bs4 import BeautifulSoup\n",
    "import requests\n",
    "from pymongo import MongoClient "
   ]
  },
  {
   "cell_type": "markdown",
   "id": "1dd10e6d-4982-4f0e-abcf-95fa23a1bb84",
   "metadata": {
    "tags": []
   },
   "source": [
    "## Connect web"
   ]
  },
  {
   "cell_type": "code",
   "execution_count": 28,
   "id": "45759788-b65b-49ac-9961-59b8f6ae571b",
   "metadata": {},
   "outputs": [],
   "source": [
    "url = 'https://en.wikipedia.org/wiki/List_of_largest_companies_in_the_United_States_by_revenue'\n",
    "headers = {\"User-Agent\": \"Mozilla/5.0 (Macintosh; Intel Mac OS X 10_15_7) AppleWebKit/537.36 (KHTML, like Gecko) Chrome/136.0.0.0 Safari/537.36\", \n",
    "           \"Accept-Encoding\":\"gzip, deflate, br, zstd\", \"Accept\":\"text/html,application/xhtml+xml,application/xml;q=0.9,image/avif,image/webp,image/apng,*/*;q=0.8,application/signed-exchange;v=b3;q=0.7\", \n",
    "           \"DNT\":\"1\",\"Connection\":\"close\", \"Upgrade-Insecure-Requests\":\"1\"}\n",
    "\n",
    "page = requests.get(url, headers=headers )\n",
    "\n",
    "soup = BeautifulSoup(page.content, 'html.parser')"
   ]
  },
  {
   "cell_type": "code",
   "execution_count": 30,
   "id": "41f1447b-a75c-4e5b-9f3a-21b67023b011",
   "metadata": {},
   "outputs": [],
   "source": [
    "# print(soup)"
   ]
  },
  {
   "cell_type": "code",
   "execution_count": 35,
   "id": "0ef9612a-c17f-4763-a4cd-b84600781f4f",
   "metadata": {},
   "outputs": [],
   "source": [
    "Company=soup.find_all('table')[0]"
   ]
  },
  {
   "cell_type": "markdown",
   "id": "9bf671ef-ee8e-4e52-b8bf-fba4a90996f7",
   "metadata": {},
   "source": [
    "## Connect MongoDB"
   ]
  },
  {
   "cell_type": "code",
   "execution_count": 48,
   "id": "14ed530f-b219-4c71-a67b-c60ac1e5dbce",
   "metadata": {},
   "outputs": [],
   "source": [
    "client = MongoClient('localhost',27017)\n",
    "db=client.largest_company "
   ]
  },
  {
   "cell_type": "code",
   "execution_count": 36,
   "id": "86120d50-e4fe-4c7b-bf73-5b2a66ecd50f",
   "metadata": {},
   "outputs": [],
   "source": [
    "column_data = Company.find_all('tr')"
   ]
  },
  {
   "cell_type": "markdown",
   "id": "e4c0e73e-f75a-460e-b7ec-3ce6b4c7b6b8",
   "metadata": {},
   "source": [
    "## Find table name "
   ]
  },
  {
   "cell_type": "code",
   "execution_count": 38,
   "id": "644d554f-665f-4b43-9254-2c66d112ba34",
   "metadata": {},
   "outputs": [
    {
     "name": "stdout",
     "output_type": "stream",
     "text": [
      "['Rank', 'Name', 'Industry', 'Revenue (USD millions)', 'Revenue growth', 'Employees', 'Headquarters']\n"
     ]
    }
   ],
   "source": [
    "world_title=Company.find_all('th')\n",
    "world_table_titles = [title.text.strip() for title in world_title]\n",
    "\n",
    "print(world_table_titles)"
   ]
  },
  {
   "cell_type": "code",
   "execution_count": 47,
   "id": "f370c053-cc09-41c5-821c-22c2fea7c21c",
   "metadata": {},
   "outputs": [],
   "source": [
    "db.company.drop()"
   ]
  },
  {
   "cell_type": "markdown",
   "id": "7d42f043-0ffe-4a54-bf99-f2dcd1dd4bbe",
   "metadata": {},
   "source": [
    "## Loop through each row of data, and put it into mongodb"
   ]
  },
  {
   "cell_type": "code",
   "execution_count": 49,
   "id": "8dec2a73-81a5-4211-bbe6-649396026476",
   "metadata": {},
   "outputs": [],
   "source": [
    "for row in column_data[1:]:\n",
    "    cols = [td.text.strip() for td in row.find_all('td')]\n",
    "\n",
    "    \n",
    "    while len(cols) < len(world_table_titles):\n",
    "        cols.append(\"\")\n",
    "\n",
    "    document = dict(zip(world_table_titles, cols))\n",
    "    db.company.insert_one(document)  "
   ]
  },
  {
   "cell_type": "code",
   "execution_count": null,
   "id": "6c99e78a-59aa-4d46-9972-faaf6533db5f",
   "metadata": {},
   "outputs": [],
   "source": []
  }
 ],
 "metadata": {
  "kernelspec": {
   "display_name": "Python 3 (ipykernel)",
   "language": "python",
   "name": "python3"
  },
  "language_info": {
   "codemirror_mode": {
    "name": "ipython",
    "version": 3
   },
   "file_extension": ".py",
   "mimetype": "text/x-python",
   "name": "python",
   "nbconvert_exporter": "python",
   "pygments_lexer": "ipython3",
   "version": "3.9.13"
  }
 },
 "nbformat": 4,
 "nbformat_minor": 5
}
